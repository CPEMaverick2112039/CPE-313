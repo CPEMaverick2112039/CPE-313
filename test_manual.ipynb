{
  "nbformat": 4,
  "nbformat_minor": 0,
  "metadata": {
    "colab": {
      "provenance": []
    },
    "kernelspec": {
      "name": "python3",
      "display_name": "Python 3"
    },
    "language_info": {
      "name": "python"
    }
  },
  "cells": [
    {
      "cell_type": "code",
      "execution_count": null,
      "metadata": {
        "colab": {
          "base_uri": "https://localhost:8080/",
          "height": 53
        },
        "id": "MS4jyvalKps9",
        "outputId": "7bab28c6-5145-40ee-9f10-800d0adfcd52"
      },
      "outputs": [
        {
          "name": "stdout",
          "output_type": "stream",
          "text": [
            "3\n"
          ]
        },
        {
          "output_type": "execute_result",
          "data": {
            "text/plain": [
              "'3'"
            ],
            "application/vnd.google.colaboratory.intrinsic+json": {
              "type": "string"
            }
          },
          "metadata": {},
          "execution_count": 9
        }
      ],
      "source": [
        "class Neuron():\n",
        "  def __init__(self, weight, weight2, function):\n",
        "    self.weight = weight\n",
        "    self.weight2 = weight2\n",
        "    self.function = function\n",
        "\n",
        "  def input(R, C):\n",
        "    R = int(input(\"Enter the number of rows:\"))\n",
        "    C = int(input(\"Enter the number of columns:\"))\n",
        "\n",
        "    matrix = []\n",
        "    print(\"Enter the entries rowwise:\")\n",
        "\n",
        "    for i in range(R):\t\t # A for loop for row entries\n",
        "\t    a =[]\n",
        "\t    for j in range(C):\t # A for loop for column entries\n",
        "\t\t    a.append(int(input()))\n",
        "\t    matrix.append(a)\n",
        "\n",
        "    for i in range(R):\n",
        "      for j in range(C):\n",
        "        print(matrix[i][j], end = \" \")\n",
        "      print()\n",
        "\n",
        "  def function(self, x):\n",
        "    return (0,x)\n",
        "\n",
        "\n",
        "input()"
      ]
    }
  ]
}